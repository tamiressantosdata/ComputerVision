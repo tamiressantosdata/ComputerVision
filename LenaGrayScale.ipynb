{
  "nbformat": 4,
  "nbformat_minor": 0,
  "metadata": {
    "colab": {
      "provenance": []
    },
    "kernelspec": {
      "name": "python3",
      "display_name": "Python 3"
    },
    "language_info": {
      "name": "python"
    }
  },
  "cells": [
    {
      "cell_type": "code",
      "execution_count": 1,
      "metadata": {
        "id": "WSTQ42tnG9fw"
      },
      "outputs": [],
      "source": [
        "import cv2\n",
        "import sys\n",
        "\n",
        "grayImage = cv2.imread('lena.png', cv2.IMREAD_GRAYSCALE)\n",
        "if grayImage is None:\n",
        "    print('Failed to read image from file')\n",
        "    sys.exit(1)\n",
        "\n",
        "success = cv2.imwrite('MyPicGray.png', grayImage)\n",
        "if not success:\n",
        "    print('Failed to write image to file')\n",
        "    sys.exit(1)"
      ]
    }
  ]
}