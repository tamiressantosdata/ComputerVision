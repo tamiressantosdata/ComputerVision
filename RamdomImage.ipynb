{
  "nbformat": 4,
  "nbformat_minor": 0,
  "metadata": {
    "colab": {
      "provenance": []
    },
    "kernelspec": {
      "name": "python3",
      "display_name": "Python 3"
    },
    "language_info": {
      "name": "python"
    }
  },
  "cells": [
    {
      "cell_type": "code",
      "execution_count": 1,
      "metadata": {
        "colab": {
          "base_uri": "https://localhost:8080/"
        },
        "id": "NiI_c9VyVpN3",
        "outputId": "c0792c00-5417-49d4-e35e-6a3a7146fa33"
      },
      "outputs": [
        {
          "output_type": "execute_result",
          "data": {
            "text/plain": [
              "True"
            ]
          },
          "metadata": {},
          "execution_count": 1
        }
      ],
      "source": [
        "import cv2\n",
        "import numpy\n",
        "import os\n",
        "\n",
        "# Make an array of 120,000 random bytes.\n",
        "randomByteArray = bytearray(os.urandom(120000))\n",
        "flatNumpyArray = numpy.array(randomByteArray)\n",
        "\n",
        "# Convert the array to make a 400x300 grayscale image.\n",
        "grayImage = flatNumpyArray.reshape(300, 400)\n",
        "cv2.imwrite('RandomGray.png', grayImage)\n",
        "\n",
        "# Convert the array to make a 400x100 color image.\n",
        "bgrImage = flatNumpyArray.reshape(100, 400, 3)\n",
        "cv2.imwrite('RandomColor.png', bgrImage)"
      ]
    }
  ]
}