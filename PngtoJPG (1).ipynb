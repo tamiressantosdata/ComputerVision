{
  "nbformat": 4,
  "nbformat_minor": 0,
  "metadata": {
    "colab": {
      "provenance": []
    },
    "kernelspec": {
      "name": "python3",
      "display_name": "Python 3"
    },
    "language_info": {
      "name": "python"
    }
  },
  "cells": [
    {
      "cell_type": "code",
      "execution_count": 1,
      "metadata": {
        "id": "ghSfsuIXEKC_"
      },
      "outputs": [],
      "source": [
        "import cv2\n",
        "import sys\n",
        "\n",
        "image = cv2.imread('lena.png')\n",
        "if image is None:\n",
        "    print('Failed to read image from file')\n",
        "    sys.exit(1)\n",
        "\n",
        "success = cv2.imwrite('MyPic.jpg', image)\n",
        "if not success:\n",
        "    print('Failed to write image to file')\n",
        "    sys.exit(1)"
      ]
    }
  ]
}